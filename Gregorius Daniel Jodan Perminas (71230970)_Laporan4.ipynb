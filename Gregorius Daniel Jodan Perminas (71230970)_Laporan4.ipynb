{
 "cells": [
  {
   "cell_type": "markdown",
   "id": "7e36c818-0d8b-423c-936e-600a98f7a643",
   "metadata": {},
   "source": [
    "# Latihan Mandiri 4.1"
   ]
  },
  {
   "cell_type": "code",
   "execution_count": 3,
   "id": "7719f1e7-b08f-4fd3-88e7-032a27daa94c",
   "metadata": {},
   "outputs": [
    {
     "name": "stdin",
     "output_type": "stream",
     "text": [
      "Masukkan nilai parameter 1:  14\n",
      "Masukkan nilai parameter 2:  26\n",
      "Masukkan nilai parameter 3:  40\n"
     ]
    },
    {
     "name": "stdout",
     "output_type": "stream",
     "text": [
      "True\n"
     ]
    }
   ],
   "source": [
    "def cek_angka(a,b,c):\n",
    "    if a != b and a != c and b != c:\n",
    "        if a == b + c or b == a + c or c == a + b:\n",
    "            return True\n",
    "        else:\n",
    "            return False\n",
    "    else:\n",
    "        return False\n",
    "    \n",
    "angka1 = int(input(\"Masukkan nilai parameter 1: \"))\n",
    "angka2 = int(input(\"Masukkan nilai parameter 2: \"))\n",
    "angka3 = int(input(\"Masukkan nilai parameter 3: \"))\n",
    "print(cek_angka(angka1,angka2,angka3))"
   ]
  },
  {
   "cell_type": "markdown",
   "id": "73e5eeaa-8d59-425c-81a2-2e39350d001a",
   "metadata": {},
   "source": [
    "# Latihan Mandiri 4.2"
   ]
  },
  {
   "cell_type": "code",
   "execution_count": 1,
   "id": "3874db02-adc7-4de0-b059-afb8c62c8b67",
   "metadata": {},
   "outputs": [
    {
     "name": "stdin",
     "output_type": "stream",
     "text": [
      "Masukkan nilai parameter 1:  30\n",
      "Masukkan nilai parameter 2:  20\n",
      "Masukkan nilai parameter 3:  18\n"
     ]
    },
    {
     "name": "stdout",
     "output_type": "stream",
     "text": [
      "True\n"
     ]
    }
   ],
   "source": [
    "def cek_digit_belakang(a,b,c):\n",
    "    nilai_akhir1 = a % 10\n",
    "    nilai_akhir2 = b % 10\n",
    "    nilai_akhir3 = c % 10\n",
    "    if nilai_akhir1 == nilai_akhir2 == nilai_akhir3:\n",
    "        return True\n",
    "    elif nilai_akhir1 == nilai_akhir2 or nilai_akhir1 == nilai_akhir3 or nilai_akhir2 == nilai_akhir3:\n",
    "        return True\n",
    "    else:\n",
    "        return False\n",
    "    \n",
    "angka1 = int(input(\"Masukkan nilai parameter 1: \"))\n",
    "angka2 = int(input(\"Masukkan nilai parameter 2: \"))\n",
    "angka3 = int(input(\"Masukkan nilai parameter 3: \"))\n",
    "print(cek_digit_belakang(angka1, angka2, angka3))"
   ]
  },
  {
   "cell_type": "markdown",
   "id": "0c7b9b06-2309-460d-9743-653734b73ffa",
   "metadata": {},
   "source": [
    "# Latihan Mandiri 4.3"
   ]
  },
  {
   "cell_type": "code",
   "execution_count": 16,
   "id": "426991d3-657e-4ea3-afcd-b400736fd72b",
   "metadata": {},
   "outputs": [
    {
     "name": "stdin",
     "output_type": "stream",
     "text": [
      "Masukkan Suhu dalam Satuan Celcius:  0\n"
     ]
    },
    {
     "name": "stdout",
     "output_type": "stream",
     "text": [
      "Input C = 0. Output F = 32.0\n",
      "Input C = 0. Output R = 0.0\n"
     ]
    }
   ],
   "source": [
    "celcius_to_fahrenheit = lambda c: (9/5 * c) + 32\n",
    "celcius_to_reamur = lambda c: 0.8 * c\n",
    "\n",
    "nominalCelcius = int(input(\"Masukkan Suhu dalam Satuan Celcius: \"))\n",
    "print(f\"Input C = {nominalCelcius}. Output F = {celcius_to_fahrenheit(nominalCelcius)}\")\n",
    "print(f\"Input C = {nominalCelcius}. Output R = {celcius_to_reamur(nominalCelcius)}\")"
   ]
  }
 ],
 "metadata": {
  "kernelspec": {
   "display_name": "Python 3 (ipykernel)",
   "language": "python",
   "name": "python3"
  },
  "language_info": {
   "codemirror_mode": {
    "name": "ipython",
    "version": 3
   },
   "file_extension": ".py",
   "mimetype": "text/x-python",
   "name": "python",
   "nbconvert_exporter": "python",
   "pygments_lexer": "ipython3",
   "version": "3.11.5"
  }
 },
 "nbformat": 4,
 "nbformat_minor": 5
}
